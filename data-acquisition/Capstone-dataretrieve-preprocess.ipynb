{
 "cells": [
  {
   "cell_type": "markdown",
   "id": "19324a3b",
   "metadata": {},
   "source": [
    "\n",
    "\n",
    "# 1. Audio Data Acquisition"
   ]
  },
  {
   "cell_type": "markdown",
   "id": "4ab5df24",
   "metadata": {},
   "source": [
    "### 1.1 Download and extract audio from YouTube link"
   ]
  },
  {
   "cell_type": "code",
   "execution_count": null,
   "id": "c9808210",
   "metadata": {},
   "outputs": [],
   "source": [
    "!pip install pytube"
   ]
  },
  {
   "cell_type": "code",
   "execution_count": null,
   "id": "07258b6e",
   "metadata": {},
   "outputs": [],
   "source": [
    "import os\n",
    "from pytube import YouTube\n",
    "\n",
    "#specify youtube link \n",
    "yt = YouTube('YOUTUBE_LINK_TO_AUDIO_SOURCE.com')\n",
    "t = yt.streams.filter(only_audio=True).first().download()\n",
    "s = t.replace('.mp4','')\n",
    "os.rename(t, s+'.wav')"
   ]
  },
  {
   "cell_type": "markdown",
   "id": "3fa56199",
   "metadata": {},
   "source": [
    "### 1.2 Download .srt file of the video\n",
    "- online tool : https://downsub.com/\n",
    "- requires the same url as the audio source"
   ]
  },
  {
   "cell_type": "markdown",
   "id": "c643e40e",
   "metadata": {},
   "source": [
    "# 2. Data Preprocessing"
   ]
  },
  {
   "cell_type": "code",
   "execution_count": null,
   "id": "c106b0eb",
   "metadata": {},
   "outputs": [],
   "source": [
    "!pip install pydub\n",
    "!pip install ffmpeg\n",
    "!pip install pandas"
   ]
  },
  {
   "cell_type": "code",
   "execution_count": null,
   "id": "5f51b22c",
   "metadata": {
    "scrolled": true
   },
   "outputs": [],
   "source": [
    "import pydub\n",
    "from pydub import AudioSegment\n",
    "import pandas as pd"
   ]
  },
  {
   "cell_type": "markdown",
   "id": "02490a22",
   "metadata": {},
   "source": [
    "### 2.1 Convert .srt file into .xlsx files for easier processing\n",
    "- online tool : https://conversiontools.io/convert/srt-to-excel"
   ]
  },
  {
   "cell_type": "code",
   "execution_count": null,
   "id": "c92baacb",
   "metadata": {
    "scrolled": true
   },
   "outputs": [],
   "source": [
    "#specify the name of the audio source\n",
    "subs = pd.read_excel(\"DRAMA-EP1.xlsx\")\n",
    "subs.index = subs.index + 1\n",
    "subs"
   ]
  },
  {
   "cell_type": "markdown",
   "id": "a28feafe",
   "metadata": {},
   "source": [
    "### 2.2 Transcript text cleaning"
   ]
  },
  {
   "cell_type": "code",
   "execution_count": null,
   "id": "f0836555",
   "metadata": {
    "scrolled": true
   },
   "outputs": [],
   "source": [
    "subs[\"transcript\"] = subs[\"text\"].str.replace('[!,?,\\n,.,-]', ' ')\n",
    "subs[\"transcript\"] = subs[\"transcript\"].str.lower()\n",
    "subs.drop(['text'], axis=1,inplace=True)\n",
    "subs"
   ]
  },
  {
   "cell_type": "markdown",
   "id": "41844ac1",
   "metadata": {},
   "source": [
    "### 2.3 Create new folder to store audio that will be trimmed later\n",
    "- if folder exists, this segment may be ignored"
   ]
  },
  {
   "cell_type": "code",
   "execution_count": null,
   "id": "8156f110",
   "metadata": {},
   "outputs": [],
   "source": [
    "import os \n",
    "    \n",
    "# specify the directory path for trimmed audio storage\n",
    "path1 = 'path/to/DRAMA-DATA/wav_path'\n",
    "     \n",
    "try: \n",
    "    os.mkdir(path1)\n",
    "except OSError as error: \n",
    "    print(error)"
   ]
  },
  {
   "cell_type": "markdown",
   "id": "e1cbffa1",
   "metadata": {},
   "source": [
    "### 2.4 Trim .wav audio based on the timestamp for each speech transcript\n",
    "\n",
    "- this simple script trims audio files based on their respective .srt timestamps.\n",
    "- outputs are stored based on the transcript index number "
   ]
  },
  {
   "cell_type": "code",
   "execution_count": null,
   "id": "618e0c26",
   "metadata": {},
   "outputs": [],
   "source": [
    "audio_file= \"DRAMA-EP1.wav\" \n",
    "audio = AudioSegment.from_file(audio_file)\n",
    "list_of_timestamps = subs['end_s'] \n",
    "\n",
    "start = 7960 #in milliseconds. (example: data from start_s column * 1000 ---> (start_s * 1000))\n",
    "    \n",
    "for  idx,t in enumerate(list_of_timestamps):\n",
    "    #breaks loop if at the last element of the list\n",
    "    if idx == len(list_of_timestamps):\n",
    "        break\n",
    "    \n",
    "    end = t *1000 #in milliseconds\n",
    "    print (\"split at [ {}:{}] ms\".format(start, end))\n",
    "    audio_chunk=audio[start:end]\n",
    "    audio_chunk.export(path2 + \"bidadari_ep7_{}.wav\".format(idx + 1), format=\"wav\")\n",
    "\n",
    "    start = end "
   ]
  },
  {
   "cell_type": "markdown",
   "id": "1fbedb8b",
   "metadata": {},
   "source": [
    "### 2.5 Separate each row from trasncript into individual .txt file\n",
    "- creates .txt files for each .wav file\n",
    "- for ASR model training and fine-tuning purposes\n",
    "- also creates a sheet in the previous excel file which pairs each .wav with their respective .txt for ease of data management"
   ]
  },
  {
   "cell_type": "code",
   "execution_count": null,
   "id": "12fd65c2",
   "metadata": {},
   "outputs": [],
   "source": [
    "!pip install XlsxWriter"
   ]
  },
  {
   "cell_type": "code",
   "execution_count": null,
   "id": "cc66f008",
   "metadata": {
    "scrolled": true
   },
   "outputs": [],
   "source": [
    "text = subs[\"transcript\"]\n",
    "text_df = text.to_frame()\n",
    "text_df"
   ]
  },
  {
   "cell_type": "code",
   "execution_count": null,
   "id": "a12d459b",
   "metadata": {},
   "outputs": [],
   "source": [
    "import os \n",
    "\n",
    "\n",
    "# specify the directory path for .txt file storage. keep in separate folder from .wav files\n",
    "path2 = 'path/to/DRAMA-DATA/transcipt_path'\n",
    "     \n",
    "try: \n",
    "    os.mkdir(path2)\n",
    "except OSError as error: \n",
    "    print(error)"
   ]
  },
  {
   "cell_type": "code",
   "execution_count": null,
   "id": "ca124f1b",
   "metadata": {},
   "outputs": [],
   "source": [
    "import csv\n",
    "import xlsxwriter\n",
    "\n",
    "workbook = xlsxwriter.Workbook('DRAMA-EP1.xlsx')\n",
    "worksheet = workbook.add_worksheet(\"samples\")\n",
    "\n",
    "worksheet.set_column('A:A', 20)\n",
    "worksheet.set_column('B:B', 20)\n",
    "worksheet.write('A1', 'wav_path')\n",
    "worksheet.write('B1', 'transcript_path')\n",
    "\n",
    "i = 1\n",
    "e = 1\n",
    "for index, row in text_df.iterrows():\n",
    "    if i > len(text_df):\n",
    "       break\n",
    "    else:\n",
    "        f = open(path2+'DRAMA_EP1_'+str(i)+'.txt', 'w')\n",
    "        worksheet.write(e, 0, \"DRAMA_EP1_{}.wav\".format(e))\n",
    "        worksheet.write(e, 1, \"DRAMA_EP1_{}.txt\".format(e))\n",
    "        f.write(row[0])\n",
    "        f.close()\n",
    "        i+=1\n",
    "        e+=1\n",
    "\n",
    "workbook.close()"
   ]
  }
 ],
 "metadata": {
  "kernelspec": {
   "display_name": "Python 3 (ipykernel)",
   "language": "python",
   "name": "python3"
  },
  "language_info": {
   "codemirror_mode": {
    "name": "ipython",
    "version": 3
   },
   "file_extension": ".py",
   "mimetype": "text/x-python",
   "name": "python",
   "nbconvert_exporter": "python",
   "pygments_lexer": "ipython3",
   "version": "3.9.12"
  },
  "vscode": {
   "interpreter": {
    "hash": "31f2aee4e71d21fbe5cf8b01ff0e069b9275f58929596ceb00d14d90e3e16cd6"
   }
  }
 },
 "nbformat": 4,
 "nbformat_minor": 5
}
